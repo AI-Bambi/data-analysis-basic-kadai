{
  "nbformat": 4,
  "nbformat_minor": 0,
  "metadata": {
    "colab": {
      "provenance": []
    },
    "kernelspec": {
      "name": "python3",
      "display_name": "Python 3"
    },
    "language_info": {
      "name": "python"
    }
  },
  "cells": [
    {
      "cell_type": "code",
      "execution_count": 15,
      "metadata": {
        "colab": {
          "base_uri": "https://localhost:8080/"
        },
        "id": "DRtydCxONi7v",
        "outputId": "6db244cc-bd7f-4fdb-8a64-a2a55bdefb38"
      },
      "outputs": [
        {
          "output_type": "stream",
          "name": "stdout",
          "text": [
            "[[ 4  5  6  7]\n",
            " [12 17 22 27]\n",
            " [20 29 38 47]]\n"
          ]
        },
        {
          "output_type": "execute_result",
          "data": {
            "text/plain": [
              "47"
            ]
          },
          "metadata": {},
          "execution_count": 15
        }
      ],
      "source": [
        "import numpy as np\n",
        "\n",
        "A = np.array([[0,1],[2,3],[4,5]])\n",
        "B = np.array([[0,1,2,3],[4,5,6,7]])\n",
        "result = np.dot(A,B)\n",
        "print(result)\n",
        "result.max()\n"
      ]
    }
  ]
}